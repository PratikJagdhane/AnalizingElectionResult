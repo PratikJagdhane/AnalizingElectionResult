{
 "cells": [
  {
   "cell_type": "code",
   "execution_count": 1,
   "id": "bfe8a66e-ee01-445a-a3e5-528bacb10003",
   "metadata": {},
   "outputs": [],
   "source": [
    "import pandas as pd"
   ]
  },
  {
   "cell_type": "code",
   "execution_count": 7,
   "id": "cd091396-052a-4285-836b-e72f076d0dfe",
   "metadata": {},
   "outputs": [],
   "source": [
    "# sample election results data (replace with actual data if available)\n",
    "data = {\n",
    "    'Constituency' : ['A','B','C','A','B','C','A','B','C'],\n",
    "    'Party' : ['PartyA','PartyB','PartyA','PartyB','PartyC','PartyC','PartyA','PartyB','PartyC'],\n",
    "    'Candidate' : ['Candidate X','Candidate Y','Candidate Z','Candidate P','Candidate Q','Candidate R','Candidate S','Candidate T','Candidate U'],\n",
    "    'Votes' : [15000,12000,18000,13000,10000,11000,17000,14000,16000],\n",
    "}\n",
    "df = pd.DataFrame(data)"
   ]
  },
  {
   "cell_type": "code",
   "execution_count": 9,
   "id": "f8c71bb3-f231-4150-a8fb-1f1a8847d943",
   "metadata": {},
   "outputs": [
    {
     "name": "stdout",
     "output_type": "stream",
     "text": [
      "total Votes Per Party:\n",
      " Party\n",
      "PartyA    50000\n",
      "PartyB    39000\n",
      "PartyC    37000\n",
      "Name: Votes, dtype: int64\n"
     ]
    }
   ],
   "source": [
    "total_votes_by_party = df.groupby('Party')['Votes'].sum()\n",
    "print(\"total Votes Per Party:\\n\" , total_votes_by_party)"
   ]
  },
  {
   "cell_type": "code",
   "execution_count": 23,
   "id": "4e1e3a2d-432a-4bbe-9cc7-f4113ededec7",
   "metadata": {},
   "outputs": [],
   "source": [
    "def get_winning_party(x):\n",
    "    return x.loc[x['Votes'].idxmax(), 'Party']"
   ]
  },
  {
   "cell_type": "code",
   "execution_count": 27,
   "id": "3765a8b2-5636-4672-b536-728adbc09a73",
   "metadata": {},
   "outputs": [
    {
     "name": "stdout",
     "output_type": "stream",
     "text": [
      "\n",
      "Winning Party by Constituency:\n",
      " Constituency\n",
      "A    PartyA\n",
      "B    PartyB\n",
      "C    PartyA\n",
      "dtype: object\n"
     ]
    },
    {
     "name": "stderr",
     "output_type": "stream",
     "text": [
      "C:\\Users\\Pratik\\AppData\\Local\\Temp\\ipykernel_19384\\319018105.py:1: DeprecationWarning: DataFrameGroupBy.apply operated on the grouping columns. This behavior is deprecated, and in a future version of pandas the grouping columns will be excluded from the operation. Either pass `include_groups=False` to exclude the groupings or explicitly select the grouping columns after groupby to silence this warning.\n",
      "  winning_party_by_constituency = df.groupby('Constituency').apply(get_winning_party)\n"
     ]
    }
   ],
   "source": [
    "winning_party_by_constituency = df.groupby('Constituency').apply(get_winning_party)\n",
    "print(\"\\nWinning Party by Constituency:\\n\", winning_party_by_constituency)"
   ]
  },
  {
   "cell_type": "code",
   "execution_count": 31,
   "id": "ac449e74-8f04-428d-aca1-5c7c2aa4a2d3",
   "metadata": {},
   "outputs": [
    {
     "name": "stdout",
     "output_type": "stream",
     "text": [
      "\n",
      "Overall Election Winner: PartyA\n"
     ]
    }
   ],
   "source": [
    "overall_winner = total_votes_by_party.idxmax()\n",
    "print(\"\\nOverall Election Winner:\", overall_winner)"
   ]
  },
  {
   "cell_type": "code",
   "execution_count": 33,
   "id": "4a78419b-1f8b-4375-ba9d-20ce7a43130e",
   "metadata": {},
   "outputs": [
    {
     "name": "stdout",
     "output_type": "stream",
     "text": [
      "\n",
      "Vote Share Percentages:\n",
      "   Constituency   Party    Candidate  Votes  Vote Share (%)\n",
      "0            A  PartyA  Candidate X  15000       11.904762\n",
      "1            B  PartyB  Candidate Y  12000        9.523810\n",
      "2            C  PartyA  Candidate Z  18000       14.285714\n",
      "3            A  PartyB  Candidate P  13000       10.317460\n",
      "4            B  PartyC  Candidate Q  10000        7.936508\n",
      "5            C  PartyC  Candidate R  11000        8.730159\n",
      "6            A  PartyA  Candidate S  17000       13.492063\n",
      "7            B  PartyB  Candidate T  14000       11.111111\n",
      "8            C  PartyC  Candidate U  16000       12.698413\n"
     ]
    }
   ],
   "source": [
    "total_votes = df['Votes'].sum()\n",
    "df['Vote Share (%)'] = (df['Votes'] / total_votes) * 100\n",
    "print(\"\\nVote Share Percentages:\\n\", df)"
   ]
  },
  {
   "cell_type": "code",
   "execution_count": 35,
   "id": "be43b626-bd1c-4bad-a524-9a4df0c04caa",
   "metadata": {},
   "outputs": [
    {
     "name": "stdout",
     "output_type": "stream",
     "text": [
      "\n",
      "Constituencies with Close Contests: ['A' 'C']\n"
     ]
    }
   ],
   "source": [
    "def close_contest(x):\n",
    "    vote_counts = x['Votes'].values\n",
    "    if len(vote_counts) > 1:\n",
    "        vote_counts.sort()  # Sort the vote counts within the constituency\n",
    "        margin = (vote_counts[-1] - vote_counts[-2]) / vote_counts[-1] * 100\n",
    "        return margin < 12.0\n",
    "    return False\n",
    "\n",
    "close_constituencies = df.groupby('Constituency').filter(close_contest)['Constituency'].unique()\n",
    "\n",
    "# Print the constituencies with close contests\n",
    "print(\"\\nConstituencies with Close Contests:\", close_constituencies)"
   ]
  },
  {
   "cell_type": "code",
   "execution_count": null,
   "id": "9da1ac8c-0a52-44df-9578-2b65ccf3d612",
   "metadata": {},
   "outputs": [],
   "source": []
  }
 ],
 "metadata": {
  "kernelspec": {
   "display_name": "Python 3 (ipykernel)",
   "language": "python",
   "name": "python3"
  },
  "language_info": {
   "codemirror_mode": {
    "name": "ipython",
    "version": 3
   },
   "file_extension": ".py",
   "mimetype": "text/x-python",
   "name": "python",
   "nbconvert_exporter": "python",
   "pygments_lexer": "ipython3",
   "version": "3.12.4"
  }
 },
 "nbformat": 4,
 "nbformat_minor": 5
}
